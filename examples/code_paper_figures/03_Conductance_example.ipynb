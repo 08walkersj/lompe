{
 "cells": [
  {
   "cell_type": "markdown",
   "id": "d2b54e62",
   "metadata": {},
   "source": [
    "# Example use of implemented conductance models\n",
    "\n",
    "In this notebook, we show how the ionospheric conductances (height integrated conductivities) can be found using implementations of:\n",
    "\n",
    "- The [Hardy et al. (1987)](https://doi.org/10.1029/JA092iA11p12275) model for auroral contribution to conductances - `conductance.hardy`.\n",
    "- A novel method to calculate the solar extreme ultraviolet (EUV) contribution to the ionospheric conductance - `conductance.EUV_conductance` (the function is described in Section 2.4 in [Laundal et al., 2022](https://doi.org/10.1029/2022JA030356)). \n",
    "\n",
    "The `conductance.hardy_EUV` function uses the above functions to obtain the total ionospheric conductances.\n",
    "\n",
    "We start by importing relevant modules:"
   ]
  },
  {
   "cell_type": "code",
   "execution_count": 1,
   "id": "54a1945e",
   "metadata": {},
   "outputs": [
    {
     "ename": "ImportError",
     "evalue": "cannot import name 'get_SECS_B_G_matrices' from 'lompe.secsy' (unknown location)",
     "output_type": "error",
     "traceback": [
      "\u001b[0;31m---------------------------------------------------------------------------\u001b[0m",
      "\u001b[0;31mImportError\u001b[0m                               Traceback (most recent call last)",
      "\u001b[0;32m/var/folders/ds/j110r2yn2ybbkzx0bs6mn71r0000gn/T/ipykernel_4832/1236831519.py\u001b[0m in \u001b[0;36m<module>\u001b[0;34m\u001b[0m\n\u001b[1;32m      4\u001b[0m \u001b[0;32mimport\u001b[0m \u001b[0mnumpy\u001b[0m \u001b[0;32mas\u001b[0m \u001b[0mnp\u001b[0m\u001b[0;34m\u001b[0m\u001b[0;34m\u001b[0m\u001b[0m\n\u001b[1;32m      5\u001b[0m \u001b[0;32mimport\u001b[0m \u001b[0mdatetime\u001b[0m \u001b[0;32mas\u001b[0m \u001b[0mdt\u001b[0m\u001b[0;34m\u001b[0m\u001b[0;34m\u001b[0m\u001b[0m\n\u001b[0;32m----> 6\u001b[0;31m \u001b[0;32mimport\u001b[0m \u001b[0mlompe\u001b[0m\u001b[0;34m\u001b[0m\u001b[0;34m\u001b[0m\u001b[0m\n\u001b[0m\u001b[1;32m      7\u001b[0m \u001b[0;32mfrom\u001b[0m \u001b[0mlompe\u001b[0m\u001b[0;34m.\u001b[0m\u001b[0mutils\u001b[0m\u001b[0;34m.\u001b[0m\u001b[0mconductance\u001b[0m \u001b[0;32mimport\u001b[0m \u001b[0;34m*\u001b[0m\u001b[0;34m\u001b[0m\u001b[0;34m\u001b[0m\u001b[0m\n\u001b[1;32m      8\u001b[0m \u001b[0;32mfrom\u001b[0m \u001b[0mlompe\u001b[0m\u001b[0;34m.\u001b[0m\u001b[0mpolplot\u001b[0m \u001b[0;32mimport\u001b[0m \u001b[0mPolarplot\u001b[0m\u001b[0;34m\u001b[0m\u001b[0;34m\u001b[0m\u001b[0m\n",
      "\u001b[0;32m~/GitHub/lompe/__init__.py\u001b[0m in \u001b[0;36m<module>\u001b[0;34m\u001b[0m\n\u001b[0;32m----> 1\u001b[0;31m \u001b[0;32mfrom\u001b[0m \u001b[0mlompe\u001b[0m\u001b[0;34m.\u001b[0m\u001b[0mmodel\u001b[0m \u001b[0;32mimport\u001b[0m \u001b[0mEmodel\u001b[0m\u001b[0;34m\u001b[0m\u001b[0;34m\u001b[0m\u001b[0m\n\u001b[0m\u001b[1;32m      2\u001b[0m \u001b[0;32mfrom\u001b[0m \u001b[0mlompe\u001b[0m\u001b[0;34m.\u001b[0m\u001b[0mmodel\u001b[0m \u001b[0;32mimport\u001b[0m \u001b[0mData\u001b[0m\u001b[0;34m\u001b[0m\u001b[0;34m\u001b[0m\u001b[0m\n\u001b[1;32m      3\u001b[0m \u001b[0;32mfrom\u001b[0m \u001b[0mlompe\u001b[0m\u001b[0;34m.\u001b[0m\u001b[0mmodel\u001b[0m \u001b[0;32mimport\u001b[0m \u001b[0mlompeplot\u001b[0m\u001b[0;34m\u001b[0m\u001b[0;34m\u001b[0m\u001b[0m\n\u001b[1;32m      4\u001b[0m \u001b[0;32mfrom\u001b[0m \u001b[0mlompe\u001b[0m\u001b[0;34m.\u001b[0m\u001b[0mpolplot\u001b[0m \u001b[0;32mimport\u001b[0m \u001b[0mPolarplot\u001b[0m\u001b[0;34m\u001b[0m\u001b[0;34m\u001b[0m\u001b[0m\n\u001b[1;32m      5\u001b[0m \u001b[0;32mfrom\u001b[0m \u001b[0mlompe\u001b[0m\u001b[0;34m.\u001b[0m\u001b[0mutils\u001b[0m \u001b[0;32mimport\u001b[0m \u001b[0msunlight\u001b[0m\u001b[0;34m\u001b[0m\u001b[0;34m\u001b[0m\u001b[0m\n",
      "\u001b[0;32m~/GitHub/lompe/model/__init__.py\u001b[0m in \u001b[0;36m<module>\u001b[0;34m\u001b[0m\n\u001b[0;32m----> 1\u001b[0;31m \u001b[0;32mfrom\u001b[0m \u001b[0mlompe\u001b[0m\u001b[0;34m.\u001b[0m\u001b[0mmodel\u001b[0m\u001b[0;34m.\u001b[0m\u001b[0mmodel\u001b[0m \u001b[0;32mimport\u001b[0m \u001b[0mEmodel\u001b[0m\u001b[0;34m\u001b[0m\u001b[0;34m\u001b[0m\u001b[0m\n\u001b[0m\u001b[1;32m      2\u001b[0m \u001b[0;32mfrom\u001b[0m \u001b[0mlompe\u001b[0m\u001b[0;34m.\u001b[0m\u001b[0mmodel\u001b[0m\u001b[0;34m.\u001b[0m\u001b[0mcmodel\u001b[0m \u001b[0;32mimport\u001b[0m \u001b[0mCmodel\u001b[0m\u001b[0;34m\u001b[0m\u001b[0;34m\u001b[0m\u001b[0m\n\u001b[1;32m      3\u001b[0m \u001b[0;32mfrom\u001b[0m \u001b[0mlompe\u001b[0m\u001b[0;34m.\u001b[0m\u001b[0mmodel\u001b[0m\u001b[0;34m.\u001b[0m\u001b[0mdata\u001b[0m \u001b[0;32mimport\u001b[0m \u001b[0mData\u001b[0m\u001b[0;34m\u001b[0m\u001b[0;34m\u001b[0m\u001b[0m\n\u001b[1;32m      4\u001b[0m \u001b[0;32mfrom\u001b[0m \u001b[0mlompe\u001b[0m\u001b[0;34m.\u001b[0m\u001b[0mmodel\u001b[0m\u001b[0;34m.\u001b[0m\u001b[0mvisualization\u001b[0m \u001b[0;32mimport\u001b[0m \u001b[0mlompeplot\u001b[0m\u001b[0;34m,\u001b[0m \u001b[0mmodel_data_scatterplot\u001b[0m\u001b[0;34m\u001b[0m\u001b[0;34m\u001b[0m\u001b[0m\n",
      "\u001b[0;32m~/GitHub/lompe/model/model.py\u001b[0m in \u001b[0;36m<module>\u001b[0;34m\u001b[0m\n\u001b[1;32m      3\u001b[0m \u001b[0;32mimport\u001b[0m \u001b[0mnumpy\u001b[0m \u001b[0;32mas\u001b[0m \u001b[0mnp\u001b[0m\u001b[0;34m\u001b[0m\u001b[0;34m\u001b[0m\u001b[0m\n\u001b[1;32m      4\u001b[0m \u001b[0;32mfrom\u001b[0m \u001b[0mscipy\u001b[0m\u001b[0;34m.\u001b[0m\u001b[0minterpolate\u001b[0m \u001b[0;32mimport\u001b[0m \u001b[0mRectBivariateSpline\u001b[0m\u001b[0;34m,\u001b[0m \u001b[0mgriddata\u001b[0m\u001b[0;34m\u001b[0m\u001b[0;34m\u001b[0m\u001b[0m\n\u001b[0;32m----> 5\u001b[0;31m \u001b[0;32mfrom\u001b[0m \u001b[0mlompe\u001b[0m\u001b[0;34m.\u001b[0m\u001b[0msecsy\u001b[0m \u001b[0;32mimport\u001b[0m \u001b[0mget_SECS_B_G_matrices\u001b[0m\u001b[0;34m,\u001b[0m \u001b[0mget_SECS_J_G_matrices\u001b[0m\u001b[0;34m\u001b[0m\u001b[0;34m\u001b[0m\u001b[0m\n\u001b[0m\u001b[1;32m      6\u001b[0m \u001b[0;32mfrom\u001b[0m \u001b[0mlompe\u001b[0m\u001b[0;34m.\u001b[0m\u001b[0msecsy\u001b[0m \u001b[0;32mimport\u001b[0m \u001b[0mcubedsphere\u001b[0m \u001b[0;32mas\u001b[0m \u001b[0mcs\u001b[0m\u001b[0;34m\u001b[0m\u001b[0;34m\u001b[0m\u001b[0m\n\u001b[1;32m      7\u001b[0m \u001b[0;32mfrom\u001b[0m \u001b[0mlompe\u001b[0m\u001b[0;34m.\u001b[0m\u001b[0mppigrf\u001b[0m \u001b[0;32mimport\u001b[0m \u001b[0migrf\u001b[0m\u001b[0;34m\u001b[0m\u001b[0;34m\u001b[0m\u001b[0m\n",
      "\u001b[0;31mImportError\u001b[0m: cannot import name 'get_SECS_B_G_matrices' from 'lompe.secsy' (unknown location)"
     ]
    }
   ],
   "source": [
    "%matplotlib inline\n",
    "import matplotlib.pyplot as plt\n",
    "import apexpy\n",
    "import numpy as np\n",
    "import datetime as dt\n",
    "import lompe\n",
    "from lompe.utils.conductance import *\n",
    "from lompe.polplot import Polarplot\n",
    "\n",
    "Re = 6371.2e3    # Earth's radius [m]\n",
    "time = dt.datetime(2010, 3, 10) # date is used for coordinate conversion and to get solar zenith angles (sza)"
   ]
  },
  {
   "cell_type": "markdown",
   "id": "04324040",
   "metadata": {},
   "source": [
    "We want to find the ionospheric conductances for the entire northen hemisphere above 50$^\\circ$ magnetic latitude. We therefore make a set of magnetic latitude and magnetic local time (MLT) coordinates covering a large portion of the high-latitude northern hemisphere:"
   ]
  },
  {
   "cell_type": "code",
   "execution_count": null,
   "id": "230c7ceb",
   "metadata": {},
   "outputs": [],
   "source": [
    "mlats = np.linspace(53,90,37)\n",
    "mlts = np.linspace(0,24,72)\n",
    "mlat, mlt = np.meshgrid(mlats, mlts, indexing = 'xy')"
   ]
  },
  {
   "cell_type": "markdown",
   "id": "a8ff898b",
   "metadata": {},
   "source": [
    "We can then use the `hardy_EUV` function to get the total conductances (both auroral \"Hardy conductances\" and solar EUV contribution to the condutances) for these locations. We specify that we want sunlight as for September 10 and auroral patterns for a Kp index of 4."
   ]
  },
  {
   "cell_type": "code",
   "execution_count": null,
   "id": "81f51201",
   "metadata": {},
   "outputs": [],
   "source": [
    "Kp   = 4                        #      for Hardy model\n",
    "F107 = 100                      # sfu, for EUV conductance                 \n",
    "\n",
    "# coordinates are converted to geographic system\n",
    "a = apexpy.Apex(time, refh=110) \n",
    "mlon = a.mlt2mlon(mlt, time)\n",
    "lat, lon, _ = a.apex2geo(mlat, mlon, 110)\n",
    "\n",
    "# Hall and Pedersen conductances\n",
    "SH, SP = hardy_EUV(lon.flatten(), lat.flatten(), Kp, time, 'hp', F107, refh = 110)"
   ]
  },
  {
   "cell_type": "markdown",
   "id": "08652564",
   "metadata": {},
   "source": [
    "The `hardy_EUV` fucntion can also return only the Hall, or only the Pedersen conductance by specifying the `hall_or_pedersen` keyword to either `hall` or `pedersen`. An additional input parameter of `calibration` can be given, which is relevant for how the EUV contribution to the conductances is calculated (this is explained further in  the last part of this notebook, under *Example to look at differences in `calibration`*).\n",
    "\n",
    "### `polplot` for visualization\n",
    "\n",
    "We show the ionospheric conductances on the nortern hemisphere using a `polplot.Polarplot` object/axis. `Polarplot` objects handle plotting in polar coordinates, specificall a latitude/local time grid. The conductances are defined in magnetic apex latitude and magnetic local time (MLT)."
   ]
  },
  {
   "cell_type": "code",
   "execution_count": null,
   "id": "f6c5487d",
   "metadata": {},
   "outputs": [],
   "source": [
    "def make_cond_figure(mlat, mlt, SH, SP, levels = np.linspace(0,20,20), ticks=np.linspace(0,20,5), savefig = False, header=None):\n",
    "    \"\"\" plots Pedersen and Hall conductances on polar (MLAT/MLT) axes\"\"\"\n",
    "    \n",
    "    # set up figure and axes\n",
    "    fig = plt.figure(figsize = (11,5))\n",
    "    ax1, ax2 = fig.add_subplot(121), fig.add_subplot(122)\n",
    "    ax1.set_title('Pedersen', y = 1, fontsize = 16)\n",
    "    ax2.set_title('Hall',     y = 1, fontsize = 16)\n",
    "    \n",
    "    # initialize Polarplot objects\n",
    "    polplot1 = Polarplot(ax1, minlat = 50, plotgrid = True, sector = 'all')\n",
    "    polplot2 = Polarplot(ax2, minlat = 50, plotgrid = True, sector = 'all')\n",
    "    polplot1.writeMLTlabels( color = 'grey',     mlat = 50, fontsize = 12)\n",
    "    polplot2.writeMLTlabels( color = 'grey',     mlat = 50, fontsize = 12)\n",
    "    polplot1.writeMLATlabels(color = 'lightgrey', mlt = 2 , fontsize = 12, backgroundcolor='#0f0f0f00', ha='center', va = 'top', rotation = 30)\n",
    "    polplot2.writeMLATlabels(color = 'lightgrey', mlt = 2 , fontsize = 12, backgroundcolor='#0f0f0f00', ha='center', va = 'top', rotation = 30)\n",
    "\n",
    "    # color scales \n",
    "    c=polplot1.contourf(mlat, mlt, SP.reshape(mlat.shape), cmap='magma', levels=levels, extend='both')\n",
    "    polplot2.contourf(  mlat, mlt, SH.reshape(mlat.shape), cmap='magma', levels=levels, extend='both')\n",
    "    \n",
    "    \n",
    "    # adjust spacing between axes\n",
    "    plt.subplots_adjust(wspace=0.09, left=0.01, right=1.1, bottom=0 , top=.9)\n",
    "\n",
    "    # color bar\n",
    "    cbar=fig.colorbar(c, ax=[ax1,ax2], ticks=ticks, orientation='vertical', shrink=0.7, aspect=25)\n",
    "    cbar.ax.tick_params(labelsize=14)\n",
    "    cbar.ax.set_ylabel('[moh]', fontsize=16)\n",
    "\n",
    "    # add header\n",
    "    if header is not None:\n",
    "        fig.suptitle(header, fontweight=\"bold\", fontsize=16, x=.44)\n",
    "\n",
    "    # save figure\n",
    "    if savefig:\n",
    "        fig.savefig('./output_figures/03conductanceexample.pdf')\n",
    "        fig.savefig('./output_figures/03conductanceexample.png')"
   ]
  },
  {
   "cell_type": "markdown",
   "id": "5f509367",
   "metadata": {},
   "source": [
    "Make figure for ionospheric conductances from `hardy_EUV`:"
   ]
  },
  {
   "cell_type": "code",
   "execution_count": null,
   "id": "8bbdcc8f",
   "metadata": {},
   "outputs": [],
   "source": [
    "header = time.strftime(\"%d %b\")+\"\"\", Kp \"\"\"+str(Kp)\n",
    "make_cond_figure(mlat, mlt, SH, SP, header=header, savefig=True)"
   ]
  },
  {
   "cell_type": "markdown",
   "id": "4ef81dcf",
   "metadata": {},
   "source": [
    "### Hardy model for auroral conductances\n",
    "    \n",
    "We can get only the auroral contribution to the ionospheric conductance from the implementation of the [Hardy et al. (1987)](https://doi.org/10.1029/JA092iA11p12275) model. The `hardy` function returns only the empirical patterns from the [Hardy et al. (1987)](https://doi.org/10.1029/JA092iA11p12275) model, and requires the Kp index, as the Hardy empirical model for the auroral conductances is binned based on Kp (0-6). In this example, we use Kp 4. Note that the implementation of the Hardy model requires the locations to be given in magnetic latitude and MLT coordinates."
   ]
  },
  {
   "cell_type": "code",
   "execution_count": null,
   "id": "c2cf1a8b",
   "metadata": {},
   "outputs": [],
   "source": [
    "hardy_hall, hardy_pedersen = hardy(mlat, mlt, Kp, 'hp') # or one or the other using hallOrped keyword ('h' or 'p')"
   ]
  },
  {
   "cell_type": "markdown",
   "id": "4a44817a",
   "metadata": {},
   "source": [
    "Plot the `hardy` conductances only:"
   ]
  },
  {
   "cell_type": "code",
   "execution_count": null,
   "id": "387eb297",
   "metadata": {},
   "outputs": [],
   "source": [
    "header = \"\"\"Auroral conductances from Hardy model, Kp \"\"\"+str(Kp)+\"\"\"                \"\"\"\n",
    "make_cond_figure(mlat, mlt, hardy_hall, hardy_pedersen, header=header)"
   ]
  },
  {
   "cell_type": "markdown",
   "id": "bb16827b",
   "metadata": {},
   "source": [
    "### EUV conductances\n",
    "\n",
    "If we want only the solar EUV contribution to the conductance, we use the `EUV_conductance` function directly. This function is based on a modified version of the empirical model from [Moen and Brekke (1993)](https://doi.org/10.1029/92GL02109) where $cos\\chi$ is replaced with a function $q'(\\chi)$ that specifies the relative maximum production due to solar EUV assuming a radially stratified atmosphere (i.e., accounting for the fact that the Earth is round). $\\chi$ is the solar zenith angle. We get solar zenith angles from March 10. The F10.7 index is part of the equation. A file containing $q'(\\chi)$ for all $\\chi$ between 0$^\\circ$ and 120$^\\circ$ (0.1$^\\circ$ resolution) stored in the /data/ folder is used for the calculations. With `calibration='Cousinsetal2015'`, a modified version of the emprical conductance model from [Cousins et al. (2015)](https://doi.org/10.1002/2014JA020463) is used to calculate the conductances. \n",
    "\n",
    "To get only solar EUV contribution to the ionospheric conductance:"
   ]
  },
  {
   "cell_type": "code",
   "execution_count": null,
   "id": "f8229cc3",
   "metadata": {},
   "outputs": [],
   "source": [
    "sza = sunlight.sza(lat, lon, time)                # get sza for locations from lompe.utils\n",
    "\n",
    "EUV_SH, EUV_SP = EUV_conductance(sza, F107, 'hp') # or one or the other using hallOrped ('h' or 'p')"
   ]
  },
  {
   "cell_type": "markdown",
   "id": "0372da7f",
   "metadata": {},
   "source": [
    "Plot the EUV conductances from `EUV_conductance`:"
   ]
  },
  {
   "cell_type": "code",
   "execution_count": null,
   "id": "9f54e6fd",
   "metadata": {},
   "outputs": [],
   "source": [
    "header = \"\"\"EUV conductances, \"\"\"+time.strftime(\"%d %b\") + \"\"\"                \"\"\"\n",
    "levels = np.linspace(0,15,15)\n",
    "ticks  = np.linspace(0,15,6)\n",
    "make_cond_figure(mlat, mlt, EUV_SH, EUV_SP, levels=levels, ticks=ticks, header=header)"
   ]
  },
  {
   "cell_type": "markdown",
   "id": "c38d58a1",
   "metadata": {},
   "source": [
    "### Example to look at differences in `calibration`\n",
    "\n",
    "Different empirical models for the EUV conductance exist, and which `calibration` that is the best can be hard to determine. This has been pointed out by, e.g., [Ieda et al. (2014)](https://agupubs.onlinelibrary.wiley.com/doi/full/10.1002/2014JA020665), and D. R. Weimer in a talk titled [Unsolved Problems In Ionospheric Conductivity](http://spacescience.org/workshops/unsolvedproblems2015/presentations/dan_weimer.pdf) held in 2015. Therefore we include at least two alternative empirical models (*calibrations*) in our implementation.\n",
    "\n",
    "We can compare the different empirical models:"
   ]
  },
  {
   "cell_type": "code",
   "execution_count": null,
   "id": "8ffb320e",
   "metadata": {},
   "outputs": [],
   "source": [
    "# using the empirical model from Cousins et al. (2015)\n",
    "SH_C, SP_C     = EUV_conductance(sza, F107, 'hp', calibration = 'Cousinsetal2015'   )\n",
    "# using the empirical model from Moen & Brekke (1993) but with \"alternative\" numbers\n",
    "SH_alt, SP_alt = EUV_conductance(sza, F107, 'hp', calibration = 'MoenBrekke1993_alt')"
   ]
  },
  {
   "cell_type": "markdown",
   "id": "d17a492c",
   "metadata": {},
   "source": [
    "And plot the EUV conductances for different calibrations:"
   ]
  },
  {
   "cell_type": "code",
   "execution_count": null,
   "id": "3bb33692",
   "metadata": {},
   "outputs": [],
   "source": [
    "# set up figure and axes\n",
    "fig = plt.figure(figsize=(11,7))\n",
    "fig.suptitle(\"\"\"EUV conductance: Comparison of calibration, \"\"\"+time.strftime(\"%d %b\"), fontweight=\"bold\", fontsize = 18, x=.45)\n",
    "axs = [fig.add_subplot(231), fig.add_subplot(232), fig.add_subplot(233), fig.add_subplot(234), fig.add_subplot(235), fig.add_subplot(236)]\n",
    "paxs = []\n",
    "\n",
    "for ax in axs:\n",
    "    paxs.append(Polarplot(ax, minlat = 50))\n",
    "paxs[-1].writeMLTlabels( color='grey',     mlat = 50)\n",
    "paxs[-1].writeMLATlabels(color='lightgrey', mlt = 3, backgroundcolor='#0f0f0f00', ha='center', va = 'top', rotation = 30)\n",
    "\n",
    "# conductances from the different calibrations\n",
    "plotargs = {'cmap':'magma', 'levels':np.linspace(0,15,15), 'extend':'both'}\n",
    "\n",
    "# Hall\n",
    "paxs[0].contourf(mlat, mlt, EUV_SH.reshape(mlat.shape), **plotargs) # moenbrekke1993\n",
    "paxs[1].contourf(mlat, mlt, SH_C.reshape(  mlat.shape), **plotargs) # cousinsetal2015\n",
    "paxs[2].contourf(mlat, mlt, SH_alt.reshape(mlat.shape), **plotargs) # moenbrekke993_alt\n",
    "\n",
    "# Pedersen\n",
    "paxs[3].contourf(  mlat, mlt, EUV_SP.reshape(mlat.shape), **plotargs) # moenbrekke1993\n",
    "paxs[4].contourf(  mlat, mlt, SP_C.reshape(  mlat.shape), **plotargs) # cousinsetal2015\n",
    "c=paxs[5].contourf(mlat, mlt, SP_alt.reshape(mlat.shape), **plotargs) # moenbrekke993_alt\n",
    "\n",
    "# add titles and adjust\n",
    "\n",
    "paxs[0].text(45, 18, text='Hall',     bypass = True, fontsize = 16, ha = 'right')\n",
    "paxs[3].text(45, 18, text='Pedersen', bypass = True, fontsize = 16, ha = 'right')\n",
    "axs[0].set_title('MoenBrekke1993'    , y = 0.98, fontsize = 16)\n",
    "axs[1].set_title('Cousinsetal2015'   , y = 0.98, fontsize = 16)\n",
    "axs[2].set_title('MoenBrekke1993_alt', y = 0.98, fontsize = 16)\n",
    "plt.subplots_adjust(hspace=0, wspace=0, left=0, right=1.1, bottom=0 ,top=.9);\n",
    "\n",
    "# colorbar\n",
    "ticks = np.linspace(0,15,6)\n",
    "cbar = fig.colorbar(c, ax = axs, ticks=ticks, orientation = 'vertical', shrink=.7, aspect=30)\n",
    "cbar.ax.tick_params(labelsize=13)\n",
    "cbar.ax.set_ylabel('[moh]', fontsize=13);"
   ]
  },
  {
   "cell_type": "markdown",
   "id": "0fb793c0",
   "metadata": {},
   "source": [
    "Where the MLAT/MLT labels are in the lower right hand panel."
   ]
  }
 ],
 "metadata": {
  "kernelspec": {
   "display_name": "Python 3 (ipykernel)",
   "language": "python",
   "name": "python3"
  },
  "language_info": {
   "codemirror_mode": {
    "name": "ipython",
    "version": 3
   },
   "file_extension": ".py",
   "mimetype": "text/x-python",
   "name": "python",
   "nbconvert_exporter": "python",
   "pygments_lexer": "ipython3",
   "version": "3.7.9"
  }
 },
 "nbformat": 4,
 "nbformat_minor": 5
}
