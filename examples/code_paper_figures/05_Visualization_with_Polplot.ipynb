{
 "cells": [
  {
   "cell_type": "markdown",
   "id": "df29d3b1",
   "metadata": {},
   "source": [
    "# Visualization with Polplot\n",
    "\n",
    "(Figure 4 in paper).\n",
    "\n",
    "Figure panels:\n",
    "\n",
    "A) Figure with CS grid on polar coordinates\n",
    "\n",
    "B) Figure with equal area grid\n",
    "\n",
    "C) Figure with data - to be explained below\n",
    "\n",
    "Import relevant modules:"
   ]
  },
  {
   "cell_type": "code",
   "execution_count": 1,
   "id": "d3031d94",
   "metadata": {},
   "outputs": [],
   "source": [
    "import lompe\n",
    "\n",
    "# where to place/get data (either \"old\" data already in the repo, or place new data in this folder)\n",
    "datapath_example = '../sample_datasets/'\n",
    "datapath_local = './datasets/'"
   ]
  }
 ],
 "metadata": {
  "kernelspec": {
   "display_name": "Python 3 (ipykernel)",
   "language": "python",
   "name": "python3"
  },
  "language_info": {
   "codemirror_mode": {
    "name": "ipython",
    "version": 3
   },
   "file_extension": ".py",
   "mimetype": "text/x-python",
   "name": "python",
   "nbconvert_exporter": "python",
   "pygments_lexer": "ipython3",
   "version": "3.7.9"
  }
 },
 "nbformat": 4,
 "nbformat_minor": 5
}
