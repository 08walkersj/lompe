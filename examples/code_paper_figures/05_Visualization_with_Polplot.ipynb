{
 "cells": [
  {
   "cell_type": "markdown",
   "id": "df29d3b1",
   "metadata": {},
   "source": [
    "# Visualization with Polplot\n",
    "\n",
    "(Figure 4 in paper).\n",
    "\n",
    "Figure panels:\n",
    "\n",
    "A) Figure with CS grid on polar coordinates\n",
    "\n",
    "B) Figure with equal area grid\n",
    "\n",
    "C) Figure with data - to be explained below\n",
    "\n",
    "Import relevant modules:"
   ]
  },
  {
   "cell_type": "code",
   "execution_count": 1,
   "id": "d3031d94",
   "metadata": {},
   "outputs": [],
   "source": [
    "import lompe\n",
    "\n",
    "# where to place/get data (either \"old\" data already in the repo, or place new data in this folder)\n",
    "datapath_example = '../sample_datasets/'\n",
    "datapath_local = './datasets/'"
   ]
  },
  {
   "cell_type": "code",
   "execution_count": null,
   "id": "98792968",
   "metadata": {},
   "outputs": [],
   "source": []
  },
  {
   "cell_type": "markdown",
   "id": "84d6c583",
   "metadata": {},
   "source": [
    "The top row shows, from left to right (input data is shown in orange): \n",
    "- Convection flow field and electric potential contours\n",
    "- horizontal magnetic field disturbances 110 km above the ionosphere (grid altitude) as black arrows and radial current density as color contours\n",
    "- horizontal ground magnetic field perturbations as black arrows and radial magnetic field perturbations as color contours\n",
    "- a map that shows the grid’s position and orientation with respect to apex magnetic latitude and local time.\n",
    "\n",
    "The bottom row shows, from left to right: \n",
    "- Pedersen conductance\n",
    "- Hall conductance\n",
    "- horizontal height-integrated ionospheric currents based on Lompe output\n",
    "- color scale / vector scales"
   ]
  }
 ],
 "metadata": {
  "kernelspec": {
   "display_name": "Python 3 (ipykernel)",
   "language": "python",
   "name": "python3"
  },
  "language_info": {
   "codemirror_mode": {
    "name": "ipython",
    "version": 3
   },
   "file_extension": ".py",
   "mimetype": "text/x-python",
   "name": "python",
   "nbconvert_exporter": "python",
   "pygments_lexer": "ipython3",
   "version": "3.7.9"
  }
 },
 "nbformat": 4,
 "nbformat_minor": 5
}
