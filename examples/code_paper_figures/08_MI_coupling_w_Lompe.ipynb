{
 "cells": [
  {
   "cell_type": "markdown",
   "id": "ac78c24e",
   "metadata": {},
   "source": [
    "# M-I coupling with Lompe\n",
    "\n",
    "M-I coupling: AMPS + Hardy / EUV conductance?"
   ]
  },
  {
   "cell_type": "code",
   "execution_count": null,
   "id": "69766c7b",
   "metadata": {},
   "outputs": [],
   "source": [
    "%matplotlib inline\n",
    "import lompe\n",
    "import matplotlib.pyplot as plt\n",
    "import datetime as dt\n",
    "import numpy as np\n",
    "import pandas as pd\n",
    "import apexpy\n",
    "from scipy.interpolate import griddata\n",
    "from scipy.ndimage import median_filter\n",
    "\n",
    "Re = 6371.2e3                   # Earth's radius [m]\n",
    "HI = 110e3                      # Ionospheric altitude [m]\n",
    "stencil_size = 1                # size of stencil for differentiation \n",
    "time = dt.datetime(2005, 9, 10) # used for coordinate conversion, map plotting, and solar zenith angles (sza)"
   ]
  },
  {
   "cell_type": "markdown",
   "id": "4d98956f",
   "metadata": {},
   "source": [
    "#### Cubed sphere grid"
   ]
  },
  {
   "cell_type": "code",
   "execution_count": null,
   "id": "86d6899f",
   "metadata": {},
   "outputs": [],
   "source": [
    "L, W, Lres, Wres = 18000e3, 18000e3, 80e3, 80e3  # m\n",
    "projection = lompe.cs.CSprojection(position = (0, 90), orientation = 0)        # east, west oriented xi-axis\n",
    "grid = lompe.cs.CSgrid(projection, L, W, Lres, Wres, R = Re+HI) # set to ionospheric altitude\n",
    "SKIP = 20 # how many grid points to skip when smoothing "
   ]
  },
  {
   "cell_type": "markdown",
   "id": "b6e79725",
   "metadata": {},
   "source": [
    "##### Ionospheric conductances"
   ]
  },
  {
   "cell_type": "code",
   "execution_count": null,
   "id": "727323a4",
   "metadata": {},
   "outputs": [],
   "source": [
    "Kp   = 4                        # for Hardy model\n",
    "F107 = 100                      # sfu, for EUV conductance\n",
    "refh = HI*1e-3                  # altitude for coodinate conversion [km]\n",
    "\n",
    "# functions for conductances to be passed to the Lompe model\n",
    "SH = lambda lon = grid.lon, lat = grid.lat: lompe.conductance.hardy_EUV(lon, lat, Kp, time, 'hall')\n",
    "SP = lambda lon = grid.lon, lat = grid.lat: lompe.conductance.hardy_EUV(lon, lat, Kp, time, 'pedersen')"
   ]
  },
  {
   "cell_type": "markdown",
   "id": "d3fa2d9a",
   "metadata": {},
   "source": [
    "#### FACs from the AMPS model\n",
    "\n",
    "Average Magnetic field and Polar current System (AMPS) model ([Laundal et al., 2018](https://doi.org/10.1029/2018JA025387))"
   ]
  },
  {
   "cell_type": "code",
   "execution_count": null,
   "id": "473f343d",
   "metadata": {},
   "outputs": [],
   "source": [
    "# AMPS FACs\n"
   ]
  },
  {
   "cell_type": "markdown",
   "id": "d9deb77c",
   "metadata": {},
   "source": [
    "NB: Input data for Lompe of the `fac` datatype need to be defined on the entire grid. This is done here, as the FACs are defined in the whole region, and we have interpolated the data to the grid."
   ]
  },
  {
   "cell_type": "code",
   "execution_count": null,
   "id": "34508e2a",
   "metadata": {},
   "outputs": [],
   "source": [
    "# field-aligned current\n",
    "FACdata = lompe.Data(facinterp.flatten(), np.vstack((grid.lon.flatten(), grid.lat.flatten())), datatype = 'fac')"
   ]
  },
  {
   "cell_type": "markdown",
   "id": "aaf92dfc",
   "metadata": {},
   "source": [
    "##### Construct the Lompe model\n",
    "Now, we can initialize a Lompe model object, add the input data, and run the inversion to get the model vector, $\\mathbf{m}$, that can be used to obtain other ionospheric parameters in the region. An explanation of the inversion technique and regularization parameters can be found in Section 3.3 of [Laundal et al. (2022)](https://doi.org/10.1029/2022JA030356)."
   ]
  },
  {
   "cell_type": "code",
   "execution_count": null,
   "id": "5149321b",
   "metadata": {},
   "outputs": [],
   "source": [
    "# initialize model\n",
    "model = lompe.Emodel(grid, Hall_Pedersen_conductance = (SH, SP))\n",
    "\n",
    "# add input data\n",
    "model.add_data(FACdata)\n",
    "\n",
    "# Run inversion. l1 and l2 are regularization parameters that control the damping of \n",
    "# 1) model norm, and 2) gradient of SECS amplitudes (charges) in magnetic eastward direction\n",
    "model.run_inversion(l1 = 0.01, l2 = 0.2);"
   ]
  },
  {
   "cell_type": "code",
   "execution_count": null,
   "id": "cf15c6e0",
   "metadata": {},
   "outputs": [],
   "source": []
  },
  {
   "cell_type": "markdown",
   "id": "84dba658",
   "metadata": {},
   "source": [
    "#### Plot and save"
   ]
  },
  {
   "cell_type": "code",
   "execution_count": null,
   "id": "91f0357b",
   "metadata": {},
   "outputs": [],
   "source": [
    "fig = lompe.lompeplot(model, include_data=False, time=time, apex=a, savekw = {'fname':'./output_figures/MIwLompe.pdf'})\n",
    "# also save png\n",
    "fig.savefig('./output_figures/MIwLompe.png')"
   ]
  },
  {
   "cell_type": "markdown",
   "id": "98168a28",
   "metadata": {},
   "source": [
    "The top row shows, from left to right: \n",
    "- Convection flow field and electric potential contours\n",
    "- horizontal magnetic field disturbances 110 km above the ionosphere (grid altitude) as black arrows and radial current density as color contours\n",
    "- horizontal ground magnetic field perturbations as black arrows and radial magnetic field perturbations as color contours\n",
    "- a map that shows the grid’s position and orientation with respect to apex magnetic latitude and local time.\n",
    "\n",
    "The bottom row shows, from left to right: \n",
    "- Pedersen conductance\n",
    "- Hall conductance\n",
    "- horizontal height-integrated ionospheric currents based on Lompe output\n",
    "- color scale / vector scales"
   ]
  }
 ],
 "metadata": {
  "kernelspec": {
   "display_name": "Python 3 (ipykernel)",
   "language": "python",
   "name": "python3"
  },
  "language_info": {
   "codemirror_mode": {
    "name": "ipython",
    "version": 3
   },
   "file_extension": ".py",
   "mimetype": "text/x-python",
   "name": "python",
   "nbconvert_exporter": "python",
   "pygments_lexer": "ipython3",
   "version": "3.7.9"
  }
 },
 "nbformat": 4,
 "nbformat_minor": 5
}
