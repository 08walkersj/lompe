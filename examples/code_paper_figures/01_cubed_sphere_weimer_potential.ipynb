{
 "cells": [
  {
   "cell_type": "markdown",
   "id": "3057a3b5",
   "metadata": {},
   "source": [
    "# Cubed sphere grid explanation with Weimer potential\n",
    "\n",
    "Cubed sphere grids are used in the Lompe technique ([Laundal et al., 2022](https://doi.org/10.1029/2022JA030356)), and an example use is shown in this notebook. We will use an electric potential, $\\Phi$, from the empirical [Weimer (2005)](https://doi.org/10.1029/2004JA010884) model for the northern hemisphere, with solar wind velocity 350 km/s, IMF $B_y$ = 0 nT, $B_z=-4$ nT, solar wind density 2 particles per cm$^3$, and dipole tilt angle $25^\\circ$. This refered to as the \"Weimer potential\". When ignoring inductive effects, this (scalar) potenital field describes the ionospheric electric field, $\\mathbf{E} = -\\nabla\\Phi$. The electric field can thus be found using the differentiation matrices $\\mathbb D_{\\mathbf{e}\\cdot\\nabla}$, $\\mathbb D_{\\mathbf{n}\\cdot\\nabla}$ obtained from a cubed sphere grid object, `CSgrid.get_Le_Ln`. We can also get the divergence of the electric field by using the $\\mathbb D_{\\nabla\\cdot}$ matrix from `CSgrid.divergence`.\n",
    "\n",
    "Below we:\n",
    " 1. Set up the cubed sphere projection and grid\n",
    " 2. Read a Weimer model output file and interpolate the electric potential to the grid\n",
    " 3. Find gradients of the electric potential - the eastward and northward electric field\n",
    " 4. Get the divergence of the electric field and multiply by $\\epsilon_0$ to get charge density\n",
    " 5. Plot\n",
    " \n",
    "Import relevant modules:"
   ]
  },
  {
   "cell_type": "code",
   "execution_count": 1,
   "id": "9a82ebfa",
   "metadata": {},
   "outputs": [],
   "source": [
    "%matplotlib inline\n",
    "import pandas as pd\n",
    "import numpy as np\n",
    "import matplotlib.pyplot as plt\n",
    "import apexpy\n",
    "import lompe\n",
    "from scipy.interpolate import griddata\n",
    "from matplotlib.colors import LinearSegmentedColormap\n",
    "\n",
    "Re = 6371.2e3    # Earth's radius [m]\n",
    "HI = 110e3       # ionospheric altitude [m]\n",
    "eps0 = 8.854e-12 # electric permittivity of free space \n",
    "stencil_size = 1 # size of the stencil used for numerical differentiation"
   ]
  },
  {
   "cell_type": "markdown",
   "id": "1d88e540",
   "metadata": {},
   "source": [
    "#### Set up cubed sphere grid\n",
    "\n",
    "Before setting up a cubed sphere grid, a cubed sphere projection must be defined. The `CSprojection` is initialized such that the cube face is centered at the north pole (0$^{\\circ}$E, 90$^{\\circ}$N) and oriented along the meridian (orientation set to zero implies primary axis of the grid in the east-west direction). The `CSprojection` is then used to set up an equal area grid in cubed sphere coordinates. Here, the `CSgrid` covers a 18 000 km$\\times$ 18 000 km area, has a resolution of 80 km, and is set to the ionospheric altitude of 110 km."
   ]
  },
  {
   "cell_type": "code",
   "execution_count": 2,
   "id": "42038abb",
   "metadata": {},
   "outputs": [],
   "source": [
    "L, W, Lres, Wres = 18000e3, 18000e3, 80e3, 80e3   # [m]\n",
    "projection = lompe.cs.CSprojection(position=(0, 90), orientation=0) # east, west oriented xi-axis\n",
    "grid = lompe.cs.CSgrid(projection, L, W, Lres, Wres, R=Re+HI)       # set to ionospheric altitude"
   ]
  },
  {
   "cell_type": "markdown",
   "id": "ee2de8f2",
   "metadata": {},
   "source": [
    "Note, that for this example, we assume that the grid is defined by *magnetic* coordinates, which means it is centered at the Magnetic North Pole. This makes interpolation of the electric potenital onto the `CSgrid` easier. (NB: For the implemented Lompe technique, see Notebooks 07 and 08, the grid is interpreted as of it is in geographic coordinates.)\n",
    "\n",
    "#### Electrostatic potential\n",
    "\n",
    "Next, we read the file containing the Weimer potential and interpolate it to the grid:"
   ]
  },
  {
   "cell_type": "code",
   "execution_count": 3,
   "id": "134ac33e",
   "metadata": {},
   "outputs": [],
   "source": [
    "# read potential file:\n",
    "weimer = pd.read_table('./datasets/weimer.txt', sep=' ', skipinitialspace=True, comment='#', \n",
    "                       names=['mlat', 'mlt', 'R_E', 'phi'])\n",
    "weimer = weimer[weimer.mlat > 0] # remove southern hemisphere\n",
    "\n",
    "# get lat, lon coordinates, convert to SI-units\n",
    "latxx = weimer.mlat.values.reshape((181, 61))\n",
    "lonxx = weimer.mlt .values.reshape((181, 61)) * 15  # mlt to lon\n",
    "Phi   = weimer.phi .values.reshape((181, 61)) * 1e3 # kV to V\n",
    "\n",
    "# interpolate potential to cubedsphere grid\n",
    "xi, eta = grid.projection.geo2cube(lonxx, latxx)\n",
    "Phi     = griddata((xi.flatten(), eta.flatten()), Phi.flatten(), (grid.xi.flatten(), grid.eta.flatten()), \n",
    "                   fill_value=0, method='cubic').reshape(grid.shape)"
   ]
  },
  {
   "cell_type": "markdown",
   "id": "f34b39c8",
   "metadata": {},
   "source": [
    "#### Horizontal electric field\n",
    "\n",
    "Matrices $\\mathbb D_{\\mathbf{e}\\cdot\\nabla}$, $\\mathbb D_{\\mathbf{n}\\cdot\\nabla}$ that can be obtained from `CSgrid.get_Le_Ln` produce derivatives in eastward and northward direction of a scalar field defined on the grid, respectively. If $\\mathrm{\\underline{\\Phi}}$ is the $N$ element column vector containing the electric potential defined in the center of each of the $N$ cells in `CSgrid`, the $N$ element column vectors containing the eastward $E_e$ and northward $E_n$ electric field components for each of the grid cells can be found through matrix multiplication:\n",
    "\\begin{equation*}\n",
    "    \\mathrm{\\underline{E}}_e = -\\mathbb D_{\\mathbf{e}\\cdot\\nabla}\\cdot\\mathrm{\\underline{\\Phi}},\n",
    "\\end{equation*}\n",
    "\\begin{equation*}\n",
    "    \\mathrm{\\underline{E}}_n = -\\mathbb D_{\\mathbf{n}\\cdot\\nabla}\\cdot\\mathrm{\\underline{\\Phi}}.\n",
    "\\end{equation*}\n",
    "    \n",
    "The elements of the differentiation matrices are calculated using a central difference scheme for the inner grid cells, and forward and backward difference schemes near the edges. The ``stencil_size`` scales the interval for the finite difference calculation of the derivatives. A larger stencil size will usually yield more accurate derivatives, but is more sensitive to noise. We use ``stencil_size = 1``, and the derivatives are calculated with a 3-point stencil.\n",
    "\n",
    "We choose to return the differation matrices as sparse (this reduces the size of the matrix making computations more effective)."
   ]
  },
  {
   "cell_type": "code",
   "execution_count": 4,
   "id": "b59e7aba",
   "metadata": {},
   "outputs": [],
   "source": [
    "# use cubedsphere differentiation matrices to get electric field\n",
    "De, Dn = grid.get_Le_Ln(S=stencil_size, return_sparse=True)\n",
    "E_e = -(De*Phi.flatten()).reshape(grid.shape)\n",
    "E_n = -(Dn*Phi.flatten()).reshape(grid.shape)"
   ]
  },
  {
   "cell_type": "markdown",
   "id": "3560fc01",
   "metadata": {},
   "source": [
    "#### Divergence of electric field\n",
    "\n",
    "We can also calculate the divergence of the electric field using the matrix $\\mathbb D_{\\nabla\\cdot}$ from `CSgrid.divergence`:\n",
    "\\begin{equation*}\n",
    "    \\mathrm{\\underline{E}}_{\\nabla\\cdot} = \\mathbb D_{\\nabla\\cdot}\\cdot\\begin{pmatrix}\\mathrm{\\underline{E}}_e\\\\\\mathrm{\\underline{E}}_n\\end{pmatrix}.\n",
    "\\end{equation*}\n",
    "$\\mathbb D_{\\nabla\\cdot}$ produces the divergence of a vector field evaluated at the center of the grid cells. $\\mathbb D_{\\nabla\\cdot}$ is a $N\\times 2N$ matrix that operates on $\\mathrm{\\underline{E}}=\\begin{pmatrix}\\mathrm{\\underline{E}}_e\\\\\\mathrm{\\underline{E}}_n\\end{pmatrix}$ that is a $2N$ column vector. $\\mathrm{\\underline{E}}_e$, $\\mathrm{\\underline{E}}_n$, and $\\mathrm{\\underline{E}}_{\\nabla\\cdot}$ are $N$ element column vectors that contain the eastward components of the electric field, northward components of the electic field, and the divergence of the electric field, respectively. \n",
    "\n",
    "The divergence of the electric field is related to the charge density, $\\rho_c$, through Gauss' law:\n",
    "\\begin{equation*}\n",
    "    \\rho_c = \\epsilon_0\\nabla\\cdot\\mathbf{E}\n",
    "\\end{equation*}\n",
    "where $\\epsilon_0=8.854\\cdot 10^{-12}\\ \\frac{A^{2}s^4}{m^3kg}$ is the permittivity of free space (constant)."
   ]
  },
  {
   "cell_type": "code",
   "execution_count": 5,
   "id": "01fdb6ff",
   "metadata": {},
   "outputs": [],
   "source": [
    "E_tot = np.hstack((E_e.flatten(), E_n.flatten()))\n",
    "\n",
    "# use cubedsphere divergence matrix to get div(E)\n",
    "Ddiv = grid.divergence(S=stencil_size, return_sparse=True)\n",
    "divE = (Ddiv*E_tot).reshape(grid.shape)\n",
    "\n",
    "# we save the div(E) matrix as it will be used in Notebook 04\n",
    "divE_save = pd.DataFrame({'divE':divE.flatten()})\n",
    "divE_save.to_hdf('./datasets/01divE.h5', key='df', mode='w')\n",
    "\n",
    "# get charge density - Gauss' law\n",
    "rho = divE * eps0 "
   ]
  },
  {
   "cell_type": "markdown",
   "id": "1b5473fc",
   "metadata": {},
   "source": [
    "#### Plotting\n",
    "\n",
    "We now make a figure illustrating the `CSgrid` as well as the parameters derived from the Weimer potential.\n",
    "\n",
    "To avoid plotting results of edge effects, we remove the lower magnetic latitudes before plotting:"
   ]
  },
  {
   "cell_type": "code",
   "execution_count": 6,
   "id": "64e3af63",
   "metadata": {},
   "outputs": [],
   "source": [
    "E_e[grid.lat < 61] = np.nan\n",
    "E_n[grid.lat < 61] = np.nan\n",
    "rho[grid.lat < 61] = np.nan"
   ]
  },
  {
   "cell_type": "markdown",
   "id": "d6e12b2b",
   "metadata": {},
   "source": [
    "_*Upper row of panels*_\n",
    "\n",
    "The grid cells are equal area in the cube coordinate system, but the projected area on the sphere decreses with distance from the center of the cube face. To illustrate how the area of the grid cells change with distance from the center of the cube face, we include a colormap under the `CSgrid` showing the relative grid cell area (to a grid cell at the center of the cube face/grid). For illustration purposes, not all grid cells are plotted. We also make a simple illustration of a cube face intersecting a sphere."
   ]
  },
  {
   "cell_type": "code",
   "execution_count": 7,
   "id": "331f0883",
   "metadata": {},
   "outputs": [
    {
     "ename": "TypeError",
     "evalue": "natural_earth() got an unexpected keyword argument 'mag'",
     "output_type": "error",
     "traceback": [
      "\u001b[0;31m---------------------------------------------------------------------------\u001b[0m",
      "\u001b[0;31mTypeError\u001b[0m                                 Traceback (most recent call last)",
      "\u001b[0;32m/var/folders/ds/j110r2yn2ybbkzx0bs6mn71r0000gn/T/ipykernel_90954/2319222445.py\u001b[0m in \u001b[0;36m<module>\u001b[0;34m\u001b[0m\n\u001b[1;32m     38\u001b[0m \u001b[0;31m# add coastlines\u001b[0m\u001b[0;34m\u001b[0m\u001b[0;34m\u001b[0m\u001b[0;34m\u001b[0m\u001b[0m\n\u001b[1;32m     39\u001b[0m \u001b[0ma\u001b[0m \u001b[0;34m=\u001b[0m \u001b[0mapexpy\u001b[0m\u001b[0;34m.\u001b[0m\u001b[0mApex\u001b[0m\u001b[0;34m(\u001b[0m\u001b[0mrefh\u001b[0m\u001b[0;34m=\u001b[0m\u001b[0;36m110\u001b[0m\u001b[0;34m)\u001b[0m \u001b[0;31m# for coord. conversion to get coastlines in magnetic\u001b[0m\u001b[0;34m\u001b[0m\u001b[0;34m\u001b[0m\u001b[0m\n\u001b[0;32m---> 40\u001b[0;31m \u001b[0;32mfor\u001b[0m \u001b[0mcl\u001b[0m \u001b[0;32min\u001b[0m \u001b[0mgrid\u001b[0m\u001b[0;34m.\u001b[0m\u001b[0mprojection\u001b[0m\u001b[0;34m.\u001b[0m\u001b[0mget_projected_coastlines\u001b[0m\u001b[0;34m(\u001b[0m\u001b[0mmag\u001b[0m\u001b[0;34m=\u001b[0m\u001b[0;32mTrue\u001b[0m\u001b[0;34m,\u001b[0m \u001b[0mapex\u001b[0m\u001b[0;34m=\u001b[0m\u001b[0ma\u001b[0m\u001b[0;34m,\u001b[0m \u001b[0mresolution\u001b[0m\u001b[0;34m=\u001b[0m\u001b[0;34m'110m'\u001b[0m\u001b[0;34m)\u001b[0m\u001b[0;34m:\u001b[0m\u001b[0;34m\u001b[0m\u001b[0;34m\u001b[0m\u001b[0m\n\u001b[0m\u001b[1;32m     41\u001b[0m     \u001b[0maxs\u001b[0m\u001b[0;34m[\u001b[0m\u001b[0;34m'grid'\u001b[0m\u001b[0;34m]\u001b[0m\u001b[0;34m.\u001b[0m\u001b[0mplot\u001b[0m\u001b[0;34m(\u001b[0m\u001b[0mcl\u001b[0m\u001b[0;34m[\u001b[0m\u001b[0;36m0\u001b[0m\u001b[0;34m]\u001b[0m\u001b[0;34m,\u001b[0m \u001b[0mcl\u001b[0m\u001b[0;34m[\u001b[0m\u001b[0;36m1\u001b[0m\u001b[0;34m]\u001b[0m\u001b[0;34m,\u001b[0m \u001b[0mcolor\u001b[0m\u001b[0;34m=\u001b[0m\u001b[0;34m'black'\u001b[0m\u001b[0;34m,\u001b[0m \u001b[0mlinewidth\u001b[0m\u001b[0;34m=\u001b[0m\u001b[0;36m1\u001b[0m\u001b[0;34m)\u001b[0m\u001b[0;34m\u001b[0m\u001b[0;34m\u001b[0m\u001b[0m\n\u001b[1;32m     42\u001b[0m \u001b[0;34m\u001b[0m\u001b[0m\n",
      "\u001b[0;32m~/GitHub/lompe/secsy/secsy/cubedsphere.py\u001b[0m in \u001b[0;36mget_projected_coastlines\u001b[0;34m(self, **kwargs)\u001b[0m\n\u001b[1;32m    377\u001b[0m             \u001b[0mkwargs\u001b[0m\u001b[0;34m[\u001b[0m\u001b[0;34m'name'\u001b[0m\u001b[0;34m]\u001b[0m \u001b[0;34m=\u001b[0m \u001b[0;34m'coastline'\u001b[0m\u001b[0;34m\u001b[0m\u001b[0;34m\u001b[0m\u001b[0m\n\u001b[1;32m    378\u001b[0m \u001b[0;34m\u001b[0m\u001b[0m\n\u001b[0;32m--> 379\u001b[0;31m         \u001b[0mshpfilename\u001b[0m \u001b[0;34m=\u001b[0m \u001b[0mshpreader\u001b[0m\u001b[0;34m.\u001b[0m\u001b[0mnatural_earth\u001b[0m\u001b[0;34m(\u001b[0m\u001b[0;34m**\u001b[0m\u001b[0mkwargs\u001b[0m\u001b[0;34m)\u001b[0m\u001b[0;34m\u001b[0m\u001b[0;34m\u001b[0m\u001b[0m\n\u001b[0m\u001b[1;32m    380\u001b[0m         \u001b[0mreader\u001b[0m \u001b[0;34m=\u001b[0m \u001b[0mshpreader\u001b[0m\u001b[0;34m.\u001b[0m\u001b[0mReader\u001b[0m\u001b[0;34m(\u001b[0m\u001b[0mshpfilename\u001b[0m\u001b[0;34m)\u001b[0m\u001b[0;34m\u001b[0m\u001b[0;34m\u001b[0m\u001b[0m\n\u001b[1;32m    381\u001b[0m         \u001b[0mcoastlines\u001b[0m \u001b[0;34m=\u001b[0m \u001b[0mreader\u001b[0m\u001b[0;34m.\u001b[0m\u001b[0mrecords\u001b[0m\u001b[0;34m(\u001b[0m\u001b[0;34m)\u001b[0m\u001b[0;34m\u001b[0m\u001b[0;34m\u001b[0m\u001b[0m\n",
      "\u001b[0;31mTypeError\u001b[0m: natural_earth() got an unexpected keyword argument 'mag'"
     ]
    },
    {
     "data": {
      "image/png": "[encoded data removed]",
      "text/plain": [
       "<Figure size 1584x1152 with 8 Axes>"
      ]
     },
     "metadata": {
      "needs_background": "light"
     },
     "output_type": "display_data"
    }
   ],
   "source": [
    "# Start by setting up figure and subplots:\n",
    "fig = plt.figure(figsize = (22,16))\n",
    "spec = fig.add_gridspec(4, 4, height_ratios=[6,.01,3,.15])\n",
    "axs = {}\n",
    "\n",
    "# upper row\n",
    "axs['grid'     ] = fig.add_subplot(spec[0, 0:2])\n",
    "axs['onsphere' ] = fig.add_subplot(spec[0, 2:4])\n",
    "\n",
    "# lower row\n",
    "axs['potential'] = fig.add_subplot(spec[2, 0  ])\n",
    "axs['E_e'      ] = fig.add_subplot(spec[2, 1  ])\n",
    "axs['E_n'      ] = fig.add_subplot(spec[2, 2  ])\n",
    "axs['Ediv'     ] = fig.add_subplot(spec[2, -1 ])\n",
    "axs['cbar1'    ] = fig.add_subplot(spec[3, 1:3])\n",
    "axs['cbar2'    ] = fig.add_subplot(spec[3, -1 ])\n",
    "\n",
    "# title axes\n",
    "titleargs = {'fontsize':34, 'y':1.1}\n",
    "axs['potential'].set_title(r'$\\Phi$',                    **titleargs)\n",
    "axs['E_e'      ].set_title(r'$\\mathrm{E}_{\\mathrm{e}}$', **titleargs)\n",
    "axs['E_n'      ].set_title(r'$\\mathrm{E}_{\\mathrm{n}}$', **titleargs)\n",
    "axs['Ediv'     ].set_title(r'$\\rho_c$',                  **titleargs)\n",
    "\n",
    "# adjust\n",
    "fig.subplots_adjust(left=.03, right=.98, bottom=.08, top=.99)\n",
    "\n",
    "for key in axs.keys():\n",
    "    if key in ['cbar1', 'cbar2']:\n",
    "        continue\n",
    "    axs[key].set_axis_off()\n",
    "    axs[key].set_aspect('equal')\n",
    "\n",
    "    \n",
    "    \n",
    "##### A) cubed sphere grid with coastlines\n",
    "\n",
    "# add coastlines\n",
    "a = apexpy.Apex(refh=110) # for coord. conversion to get coastlines in magnetic\n",
    "for cl in grid.projection.get_projected_coastlines(mag=True, apex=a, resolution='110m'):\n",
    "    axs['grid'].plot(cl[0], cl[1], color='black', linewidth=1)\n",
    "\n",
    "# plot some of the grid cells\n",
    "count = -1\n",
    "for xi, eta in grid.get_grid_boundaries(geocentric=False):\n",
    "    count += 1\n",
    "    if count%6 != 0:\n",
    "        continue\n",
    "    axs['grid'].plot(xi, eta, color='grey', lw=1, zorder=1)\n",
    "\n",
    "# adjust axis\n",
    "xlim, ylim = (grid.xi_mesh[0, 0], grid.xi_mesh[-1, -1]), (grid.eta_mesh[0, 0], grid.eta_mesh[-1, -1])\n",
    "axs['grid'].set_ylim(ylim)\n",
    "axs['grid'].set_xlim(xlim)\n",
    "\n",
    "# shade under grid region for relative rea\n",
    "cmapIn = plt.get_cmap('viridis')\n",
    "new_cmap = LinearSegmentedColormap.from_list('trunc({n},{a:.2f},{b:.2f})'.format(n=cmapIn.name, a=.3, b=.95),\n",
    "                                             cmapIn(np.linspace(.3, .95, 100)))\n",
    "ticks = np.linspace(.8, 1, 5)*100\n",
    "areas = axs['grid'].pcolormesh(grid.xi, grid.eta, grid.A/grid.A.max()*100,cmap=new_cmap, zorder=0)\n",
    "\n",
    "# color bar\n",
    "cbar1 = fig.colorbar(areas, ax=axs['grid'], location='left', ticks=ticks, orientation='vertical', shrink=.8, \n",
    "                     aspect=25, pad=.05)\n",
    "cbar1.ax.tick_params(labelsize=20)\n",
    "cbar1.ax.set_ylabel('Grid cell area relative to center [%]', fontsize=24, labelpad=.2)\n",
    "\n",
    "# add indication of grid cell center (red) and grid cell corner (black)\n",
    "axs['grid'].scatter(grid.xi_mesh[12,14], grid.eta_mesh[12,14], c='red', s=150)\n",
    "axs['grid'].scatter(-0.4735, grid.eta[9,11], c='black', s=150)\n",
    "\n",
    "# add latitude contours\n",
    "latargs = {'linestyles':'--', 'linewidths':1, 'levels':np.r_[-80:81:10], 'zorder':2}\n",
    "co = axs['grid'].contour(grid.xi, grid.eta, grid.lat, colors='lightgrey', **latargs)\n",
    "axs['grid'].clabel(co, co.levels, inline=True, fontsize=18)\n",
    "\n",
    "\n",
    "\n",
    "#### B) example of cube face intersecting sphere \n",
    "\n",
    "# cross section of cube face that is intersecting a sphere\n",
    "xs = np.linspace(-4,4,1000)\n",
    "ys = np.linspace(-4,4,1000)\n",
    "a, b = np.meshgrid(xs, ys)\n",
    "C = a ** 2 + b ** 2 - 16   # function of a circle with radius 4\n",
    "axs['onsphere'].contour(a, b, C, levels=[0], colors='black')\n",
    "axs['onsphere'].plot([-8,8],[4,4], color='black', lw=4)\n",
    "\n",
    "# lines from center of sphere to equally spaced regions on grid\n",
    "for i in range(-8,9,2):\n",
    "    axs['onsphere'].plot([0,i],[0,4], color='black', lw=1)\n",
    "\n",
    "# indicate grid region from (A) with blue lines\n",
    "yedge = np.tan((90-grid.lat.min())*np.pi/180.)*4\n",
    "axs['onsphere'].scatter([-yedge, yedge], [4, 4], c='C0', marker='$\\mathrm{l}$', s=500, zorder=4)\n",
    "\n",
    "# adjust\n",
    "axs['onsphere'].set_xlim(-8,8)\n",
    "axs['onsphere'].set_ylim(-6,6);"
   ]
  },
  {
   "cell_type": "markdown",
   "id": "df9ef8c7",
   "metadata": {},
   "source": [
    "_*Lower row of panels*_\n",
    "\n",
    "The Weimer model potential, the eastward elecric field, the northward electric field, and the charge density are plotted in the lower row of panels:"
   ]
  },
  {
   "cell_type": "code",
   "execution_count": null,
   "id": "3755fa8a",
   "metadata": {
    "scrolled": true
   },
   "outputs": [],
   "source": [
    "# Set up axes\n",
    "for key in axs.keys():\n",
    "    if key in ['grid','onsphere', 'cbar1', 'cbar2']: \n",
    "        continue\n",
    "    # latitude contours\n",
    "    c = axs[key].contour(grid.xi, grid.eta, grid.lat, colors='grey', **latargs)\n",
    "    axs[key].clabel(c, c.levels, inline = True, fontsize = 18)\n",
    "\n",
    "    \n",
    "####### (C) Potential\n",
    "\n",
    "potlevels = np.r_[-101:101:4]*1e3\n",
    "axs['potential'].contour(grid.xi, grid.eta, Phi, colors='black', levels=potlevels, linewidths=1)\n",
    "\n",
    "# add potential contours to plots (D)-(F)\n",
    "axs['E_e'      ].contour(grid.xi, grid.eta, Phi, colors='gray',  levels=potlevels, linewidths=1)\n",
    "axs['E_n'      ].contour(grid.xi, grid.eta, Phi, colors='gray',  levels=potlevels, linewidths=1)\n",
    "axs['Ediv'     ].contour(grid.xi, grid.eta, Phi, colors='gray',  levels=potlevels, linewidths=1)\n",
    "\n",
    "\n",
    "####### D) and E) - eastward, northward electric field\n",
    "\n",
    "Elevels = np.linspace(-34,34,50)     # color scale for electric field components\n",
    "Elevel_ticks = np.linspace(-34,34,5)\n",
    "\n",
    "Eeastcont = axs['E_e'].contourf(grid.xi, grid.eta, E_e*1e3, levels=Elevels, cmap=plt.cm.bwr, extend='both')\n",
    "axs['E_n'].contourf(            grid.xi, grid.eta, E_n*1e3, levels=Elevels, cmap=plt.cm.bwr, extend='both')\n",
    "\n",
    "# color bar for E-field components\n",
    "cbar2 = fig.colorbar(Eeastcont, cax=axs['cbar1'], ticks=Elevel_ticks, orientation='horizontal', shrink=.5, aspect=10)\n",
    "cbar2.ax.tick_params(labelsize=20)\n",
    "cbar2.ax.set_xlabel(r'Electric field [$m$V/m]', fontsize=24)\n",
    "\n",
    "\n",
    "###### F) - charge density\n",
    "\n",
    "divElevels = np.linspace(-1,1,50) # color scale for charge density (eps*divE)\n",
    "divEticks  = np.linspace(-1,1,5) \n",
    "\n",
    "rho_c = axs['Ediv'].contourf(grid.xi, grid.eta, rho*1e18, levels=divElevels, cmap=plt.cm.bwr, extend='both')\n",
    "\n",
    "# color bar for charge density\n",
    "cbar3 = fig.colorbar(rho_c, cax=axs['cbar2'], ticks=divEticks, orientation='horizontal', shrink=.5)\n",
    "cbar3.ax.tick_params(labelsize=20)\n",
    "cbar3.ax.set_xlabel(r'Charge density [$a$C/m$^2$]', fontsize=24)\n",
    "\n",
    "fig"
   ]
  },
  {
   "cell_type": "markdown",
   "id": "804db658",
   "metadata": {},
   "source": [
    "Adjust figure and save"
   ]
  },
  {
   "cell_type": "code",
   "execution_count": null,
   "id": "59bc4bf9",
   "metadata": {
    "scrolled": true
   },
   "outputs": [],
   "source": [
    "# add subfigure letters\n",
    "fs=32\n",
    "axs['grid'     ].text(-0.95, 0.55, '(A)', fontsize=fs)\n",
    "axs['onsphere' ].text(-8.5,  5.8,  '(B)', fontsize=fs)\n",
    "axs['potential'].text(-0.74, 0.77, '(C)', fontsize=fs)\n",
    "axs['E_e'      ].text(-0.74, 0.77, '(D)', fontsize=fs)\n",
    "axs['E_n'      ].text(-0.74, 0.77, '(E)', fontsize=fs)\n",
    "axs['Ediv'     ].text(-0.74, 0.77, '(F)', fontsize=fs)\n",
    "\n",
    "# save figure\n",
    "fig.savefig('./output_figures/01CSexample.pdf')\n",
    "fig.savefig('./output_figures/01CSexample.png')\n",
    "\n",
    "fig"
   ]
  },
  {
   "cell_type": "markdown",
   "id": "8040119d",
   "metadata": {},
   "source": [
    "The parameters are plotted in cubed sphere $\\xi, \\eta$ coordinates. Note that the center of the grid is at the magnetic north pole.\n",
    "    \n",
    "- (A) Cubed sphere grid with coastlines (grey). The color contours shows that the area of the grid cells (projected on the sphere) decrease the further away from the center of the cube face they are. For illustration purposes, not all cells in the grid is shown. The red dot marks the center of a grid cell, and the black dot marks a corner of the same grid cell.\n",
    "\n",
    "- (B) A cross section of a cubed sphere cube face (bold black line) intersecting a sphere. Thinner black lines show that equally spaced regions on the cube face map to increasingly smaller regions on the shpere the further away from the intersecting point we get. The extent of the grid in (A) is shown by blue markers.\n",
    "    \n",
    "- (C) The electrostatic Weimer model potential as black contours.\n",
    "    \n",
    "- (D) The eastward electric field component (color contours) derived from the Weimer model potential (gray contours).\n",
    "    \n",
    "- (E) The northward electric field component (color contours) derived from the Weimer model potential (gray contours).\n",
    "\n",
    "- (F) The charge density (color contours) derived from the Weimer model potential (gray contours)."
   ]
  }
 ],
 "metadata": {
  "kernelspec": {
   "display_name": "Python 3 (ipykernel)",
   "language": "python",
   "name": "python3"
  },
  "language_info": {
   "codemirror_mode": {
    "name": "ipython",
    "version": 3
   },
   "file_extension": ".py",
   "mimetype": "text/x-python",
   "name": "python",
   "nbconvert_exporter": "python",
   "pygments_lexer": "ipython3",
   "version": "3.7.9"
  }
 },
 "nbformat": 4,
 "nbformat_minor": 5
}
