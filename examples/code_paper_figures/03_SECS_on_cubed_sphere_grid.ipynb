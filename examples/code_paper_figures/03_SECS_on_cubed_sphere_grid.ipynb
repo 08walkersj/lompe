{
 "cells": [
  {
   "cell_type": "markdown",
   "id": "0480f9e8",
   "metadata": {},
   "source": [
    "# SECS implementation i Python\n",
    "\n",
    "Create a figure illustrating Python implementation spherical elementary current system (SECS) analysis on a cubed sphere grid (Figure 3 in paper).\n",
    "\n",
    "Import relevant modules:"
   ]
  },
  {
   "cell_type": "code",
   "execution_count": null,
   "id": "1d27b3c0",
   "metadata": {},
   "outputs": [],
   "source": [
    "import lompe\n",
    "import numpy as np\n",
    "import matplotlib.pyplot as plt\n",
    "\n",
    "Re = 6371.2e3    # Earth radius"
   ]
  },
  {
   "cell_type": "markdown",
   "id": "00fcccf5",
   "metadata": {},
   "source": [
    "Set up cubed sphere projection and grid:"
   ]
  },
  {
   "cell_type": "code",
   "execution_count": null,
   "id": "6ef142e3",
   "metadata": {},
   "outputs": [],
   "source": [
    "L, W, Lres, Wres = 20000e3, 20000e3, 50e3, 50e3\n",
    "projection = lompe.cs.CSprojection(position = (0, 90), orientation = 0)\n",
    "grid = lompe.cs.CSgrid(projection, L, W, Lres, Wres, R = Re+110e3)"
   ]
  }
 ],
 "metadata": {
  "kernelspec": {
   "display_name": "Python 3 (ipykernel)",
   "language": "python",
   "name": "python3"
  },
  "language_info": {
   "codemirror_mode": {
    "name": "ipython",
    "version": 3
   },
   "file_extension": ".py",
   "mimetype": "text/x-python",
   "name": "python",
   "nbconvert_exporter": "python",
   "pygments_lexer": "ipython3",
   "version": "3.7.9"
  }
 },
 "nbformat": 4,
 "nbformat_minor": 5
}
