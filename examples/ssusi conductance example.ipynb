{
 "cells": [
  {
   "cell_type": "markdown",
   "id": "fba59ea9",
   "metadata": {},
   "source": [
    "# Example of how to derive conductances from SSUSI and use that in Lompe"
   ]
  },
  {
   "cell_type": "markdown",
   "id": "06f74e8b",
   "metadata": {},
   "source": [
    "First import packages. I got dataloader function to work with the Iridium dataset with the following combination of packages and python version:  \n",
    "python==3.7  \n",
    "shapely.__version__==1.7.1  \n",
    "astropy.__version__==4.2.1  \n"
   ]
  },
  {
   "cell_type": "code",
   "execution_count": 1,
   "id": "9f1d3f5d",
   "metadata": {},
   "outputs": [],
   "source": [
    "import numpy as np\n",
    "import pandas as pd\n",
    "import datetime as dt\n",
    "from secsy import cubedsphere\n",
    "from lompe import conductance\n",
    "import apexpy\n",
    "import lompe\n",
    "import lompe.data_tools.dataloader as dataloader\n",
    "import xarray as xr\n",
    "from lompe.utils import sunlight\n",
    "import matplotlib.pyplot as plt"
   ]
  },
  {
   "cell_type": "markdown",
   "id": "eed8a829",
   "metadata": {},
   "source": [
    "Select a date to work with. This script will assume that you are logged on the the BCSS dropbox account, where it will fetch the data. One excemption is the SuperMAG data. The new python-API should be implemented to download the data directly from the supermag server.\n"
   ]
  },
  {
   "cell_type": "code",
   "execution_count": 2,
   "id": "57b5bb03",
   "metadata": {},
   "outputs": [],
   "source": [
    "event = '2013-06-01'"
   ]
  },
  {
   "cell_type": "markdown",
   "id": "3636f6c7",
   "metadata": {},
   "source": [
    "Specify Dropbox path and path to where temp dataset files are stored. "
   ]
  },
  {
   "cell_type": "code",
   "execution_count": 3,
   "id": "6df111d7",
   "metadata": {},
   "outputs": [],
   "source": [
    "basepath = '/Users/jone/BCSS-DAG Dropbox/'\n",
    "tempfile_path='./data/'"
   ]
  },
  {
   "cell_type": "markdown",
   "id": "6adf6eb2",
   "metadata": {},
   "source": [
    "Load the data and make the temp files"
   ]
  },
  {
   "cell_type": "code",
   "execution_count": null,
   "id": "d94da4ca",
   "metadata": {},
   "outputs": [],
   "source": [
    "ampere    = pd.read_pickle(dataloader.read_iridium(event, basepath=basepath,tempfile_path=tempfile_path))\n",
    "superdarn  = pd.read_pickle(dataloader.read_sdarn(event, basepath=basepath,tempfile_path=tempfile_path))\n",
    "supermag = pd.read_pickle(dataloader.read_smag(event, basepath=basepath,tempfile_path=tempfile_path))\n",
    "ssusi = xr.load_dataset(dataloader.read_ssusi(event, basepath=basepath,tempfile_path=tempfile_path))\n"
   ]
  },
  {
   "cell_type": "markdown",
   "id": "951e2275",
   "metadata": {},
   "source": [
    "Select time to work with\n"
   ]
  },
  {
   "cell_type": "code",
   "execution_count": null,
   "id": "1377c909",
   "metadata": {},
   "outputs": [],
   "source": [
    "ii = 29 # number of dmsp pass to select for condutance models\n",
    "time = pd.to_datetime(ssusi['date'].values[ii])\n",
    "#time = dt.datetime(int(event[0:4]),int(event[5:7]),int(event[8:10]),22,48)\n",
    "DT = dt.timedelta(seconds = 5 * 60) # will select data from time +- DT\n"
   ]
  },
  {
   "cell_type": "markdown",
   "id": "685fe640",
   "metadata": {},
   "source": [
    "Set up grid"
   ]
  },
  {
   "cell_type": "code",
   "execution_count": null,
   "id": "588079bd",
   "metadata": {},
   "outputs": [],
   "source": [
    "position = (-80, 82) # lon, lat\n",
    "orientation = (-0.1, 1) # east, north\n",
    "L, W, Lres, Wres = 10000e3, 6000e3, 100.e3, 100.e3 # dimensions and resolution of grid (L, Lres are along orientation vector)\n",
    "grid = cubedsphere.CSgrid(cubedsphere.CSprojection(position, orientation), L, W, Lres, Wres, R = 6481.2e3)"
   ]
  },
  {
   "cell_type": "markdown",
   "id": "622492d0",
   "metadata": {},
   "source": [
    "## Make the conductance model"
   ]
  },
  {
   "cell_type": "markdown",
   "id": "3dc45f45",
   "metadata": {},
   "source": [
    "1) First estimate condutance from EUV radiation. Construct with smaller weight to reduce impact where we have SSUSI coverage"
   ]
  },
  {
   "cell_type": "code",
   "execution_count": null,
   "id": "5cf5a177",
   "metadata": {},
   "outputs": [],
   "source": [
    "sza = sunlight.sza(grid.lat, grid.lon, time)\n",
    "EUV_hall, EUV_pedersen = conductance.EUV_conductance(sza, 100, 'hp', calibration = 'MoenBrekke1993')\n",
    "sh_euv = lompe.Data(EUV_hall, # data values\n",
    "                     np.vstack((np.ravel(grid.lon), np.ravel(grid.lat))), # coordinates\n",
    "                     datatype = 'Hall', weights = np.ones(grid.lon.flatten().shape[0])*0.5)\n",
    "sp_euv = lompe.Data(EUV_pedersen, # data values\n",
    "                     np.vstack((np.ravel(grid.lon), np.ravel(grid.lat))), # coordinates\n",
    "                     datatype = 'Pedersen', weights = np.ones(grid.lon.flatten().shape[0])*0.5)"
   ]
  },
  {
   "cell_type": "markdown",
   "id": "5431883e",
   "metadata": {},
   "source": [
    "2) Use SSUSI to estimate conductance from precipitation:"
   ]
  },
  {
   "cell_type": "code",
   "execution_count": null,
   "id": "cb776bf2",
   "metadata": {},
   "outputs": [],
   "source": [
    "a = apexpy.Apex(time.year)\n",
    "glat, glon = a.convert(ssusi.isel(date=ii).mlat, ssusi.isel(date=ii).mlt,'mlt','geo',height=110, datetime=time)\n",
    "inside_px = grid.ingrid(glon, glat, ext_factor=1)\n",
    "sh = np.array(ssusi.isel(date=ii).SH).flatten()\n",
    "sp = np.array(ssusi.isel(date=ii).SP).flatten()\n",
    "use_sh = np.isfinite(sh) & inside_px.flatten()\n",
    "use_sp = np.isfinite(sp) & inside_px.flatten()\n",
    "sza_ssusi = sunlight.sza(glat, glon, pd.to_datetime(ssusi['date'].values[ii]))\n",
    "EUV_hall_ssusi, EUV_pedersen_ssusi = conductance.EUV_conductance(sza_ssusi, 100, 'hp', calibration = 'MoenBrekke1993')\n",
    "sh_ssusi = lompe.Data(sh[use_sh] + EUV_hall_ssusi[use_sh], # data values\n",
    "                     np.vstack((glon.flatten()[use_sh], glat.flatten()[use_sh])), # coordinates\n",
    "                     datatype = 'Hall')\n",
    "sp_ssusi = lompe.Data(sp[use_sp] + EUV_pedersen_ssusi[use_sp], # data values\n",
    "                     np.vstack((glon.flatten()[use_sp], glat.flatten()[use_sp])), # coordinates\n",
    "                     datatype = 'Pedersen')"
   ]
  },
  {
   "cell_type": "markdown",
   "id": "3ec3c1e4",
   "metadata": {},
   "source": [
    "3) Initialize the model, add data, and run inversion"
   ]
  },
  {
   "cell_type": "code",
   "execution_count": null,
   "id": "4785fe7c",
   "metadata": {},
   "outputs": [],
   "source": [
    "cmod = lompe.Cmodel(grid,spline_smoothing = 0)\n",
    "cmod.add_data(sh_ssusi, sp_ssusi, sh_euv, sp_euv)  # add datasets\n",
    "cmod.run_inversion()"
   ]
  },
  {
   "cell_type": "markdown",
   "id": "05939ef8",
   "metadata": {},
   "source": [
    "4) Explore the conductance model result and compare to data"
   ]
  },
  {
   "cell_type": "code",
   "execution_count": null,
   "id": "8e2e7036",
   "metadata": {},
   "outputs": [],
   "source": [
    "fig, axs = plt.subplots(nrows=1, ncols=2, figsize = (14, 10))\n",
    "# Plot grid and coastlines:\n",
    "for ax in axs:\n",
    "    ax.set_axis_off()\n",
    "    for lon, lat in grid.get_grid_boundaries():\n",
    "        xi, eta = grid.projection.geo2cube(lon, lat)\n",
    "        ax.plot(xi, eta, color = 'grey', linewidth = .4)\n",
    "    xlim, ylim = ax.get_xlim(), ax.get_ylim()\n",
    "    for cl in grid.projection.get_projected_coastlines():\n",
    "        ax.plot(cl[0], cl[1], color = 'C0')\n",
    "    ax.set_xlim(xlim)\n",
    "    ax.set_ylim(ylim)\n",
    "ax = axs[0]\n",
    "#Plot ssusi on the projected map\n",
    "#Reduce size of ssusi image to at least not exceed the CS grid face\n",
    "__x = 30 #30\n",
    "__y = 290 #300\n",
    "ax.pcolormesh(grid.xi_mesh, grid.eta_mesh,sh_euv.values.reshape(grid.lon.shape), vmax=40, vmin=0)\n",
    "xi, eta = grid.projection.geo2cube(glon, glat)\n",
    "ax.pcolormesh(xi[__x:__y,__x:__y],eta[__x:__y,__x:__y],(sh+EUV_hall_ssusi).reshape(xi.shape)[__x:__y,__x:__y], vmax=40, vmin=0)\n",
    "ax.text(0.3,0.99,'Input data + EUV', transform=ax.transAxes)\n",
    "#Plot the result of inversion\n",
    "ax = axs[1]\n",
    "Gc = cmod.conductance_matrix(lon = grid.lon_mesh, lat = grid.lat_mesh)\n",
    "hall_c = Gc.dot(cmod.m['hall'])\n",
    "ax.pcolormesh(grid.xi_mesh, grid.eta_mesh, np.exp(hall_c.reshape(grid.lon_mesh.shape)), vmax=40, vmin=0)\n",
    "ax.text(0.3,0.99,'Conductance inversion', transform=ax.transAxes)"
   ]
  },
  {
   "cell_type": "markdown",
   "id": "47c1999d",
   "metadata": {},
   "source": [
    "## Electric field model (Lompe)"
   ]
  },
  {
   "cell_type": "markdown",
   "id": "9a7a0124",
   "metadata": {},
   "source": [
    "1) Prepare datasets"
   ]
  },
  {
   "cell_type": "code",
   "execution_count": null,
   "id": "fcb4aa8b",
   "metadata": {},
   "outputs": [],
   "source": [
    "# prepare ampere\n",
    "amp = ampere[(ampere.time >= time - DT) & (ampere.time <= time + DT)].dropna()\n",
    "B = np.vstack((amp.B_e.values, amp.B_n.values, amp.B_r.values))\n",
    "coords = np.vstack((amp.lon.values, amp.lat.values, amp.r.values))\n",
    "amp_data = lompe.Data(B * 1e-9, coords, datatype = 'space_mag_full', scale = 200 * B.size * 1e-9)\n",
    "\n",
    "# prepare supermag\n",
    "sm = supermag[time-DT:time+DT].dropna()\n",
    "B = np.vstack((sm.Be.values, sm.Bn.values, sm.Bu.values))\n",
    "coords = np.vstack((sm.lon.values, sm.lat.values))\n",
    "sm_data = lompe.Data(B * 1e-9, coords, datatype = 'ground_mag', scale = 100 * B.size * 1e-9)\n",
    "\n",
    "# prepare superdarn\n",
    "sd = superdarn.loc[(superdarn.index >= time - DT) & (superdarn.index <= time+ DT)].dropna()\n",
    "vlos = sd['vlos'].values\n",
    "coords = np.vstack((sd['glon'].values, sd['glat'].values))\n",
    "los  = np.vstack((sd['le'].values, sd['ln'].values))\n",
    "sd_data = lompe.Data(vlos, coordinates = coords, LOS = los, datatype = 'convection', scale = (100000 * len(vlos))**2 )\n"
   ]
  },
  {
   "cell_type": "markdown",
   "id": "f7625110",
   "metadata": {},
   "source": [
    "2) Initialize model and add datasets, and run inversion"
   ]
  },
  {
   "cell_type": "code",
   "execution_count": null,
   "id": "d0e7708c",
   "metadata": {},
   "outputs": [],
   "source": [
    "emod = lompe.Emodel(grid, (cmod.hall, cmod.pedersen))\n",
    "emod.add_data(amp_data, sm_data, sd_data)\n",
    "emod.run_inversion(l1 = 2, l2 = 0)"
   ]
  },
  {
   "cell_type": "markdown",
   "id": "8ac1b61f",
   "metadata": {},
   "source": [
    "Lompeplot"
   ]
  },
  {
   "cell_type": "code",
   "execution_count": null,
   "id": "ac676b81",
   "metadata": {},
   "outputs": [],
   "source": [
    "lompe.lompeplot(emod, include_data = True, time = time, apex = a)"
   ]
  }
 ],
 "metadata": {
  "kernelspec": {
   "display_name": "Python 3 (ipykernel)",
   "language": "python",
   "name": "python3"
  },
  "language_info": {
   "codemirror_mode": {
    "name": "ipython",
    "version": 3
   },
   "file_extension": ".py",
   "mimetype": "text/x-python",
   "name": "python",
   "nbconvert_exporter": "python",
   "pygments_lexer": "ipython3",
   "version": "3.7.9"
  }
 },
 "nbformat": 4,
 "nbformat_minor": 5
}
